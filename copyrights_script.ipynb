{
  "cells": [
    {
      "cell_type": "code",
      "execution_count": null,
      "id": "fd1667fd-6216-40e0-ab56-5ebdb9175369",
      "metadata": {
        "id": "fd1667fd-6216-40e0-ab56-5ebdb9175369",
        "outputId": "a3690018-b7df-4c3d-bbaf-003c400ae4e0"
      },
      "outputs": [
        {
          "name": "stdout",
          "output_type": "stream",
          "text": [
            "Defaulting to user installation because normal site-packages is not writeable\n",
            "Requirement already satisfied: psycopg2 in ./.local/lib/python3.10/site-packages (2.9.9)\n",
            "Note: you may need to restart the kernel to use updated packages.\n"
          ]
        }
      ],
      "source": [
        "pip install psycopg2"
      ]
    },
    {
      "cell_type": "code",
      "execution_count": null,
      "id": "1adeb459-e175-4425-8a2e-f77979afd956",
      "metadata": {
        "id": "1adeb459-e175-4425-8a2e-f77979afd956"
      },
      "outputs": [],
      "source": [
        "import psycopg2"
      ]
    },
    {
      "cell_type": "code",
      "execution_count": null,
      "id": "981a3d5d-af41-4934-b3f7-0be3656f7dba",
      "metadata": {
        "id": "981a3d5d-af41-4934-b3f7-0be3656f7dba",
        "outputId": "e292c042-fde5-41ed-d224-ab54832fc6dd"
      },
      "outputs": [
        {
          "name": "stdout",
          "output_type": "stream",
          "text": [
            "Defaulting to user installation because normal site-packages is not writeable\n",
            "Requirement already satisfied: pandas in ./.local/lib/python3.10/site-packages (2.2.2)\n",
            "Requirement already satisfied: numpy>=1.22.4 in ./.local/lib/python3.10/site-packages (from pandas) (2.0.0)\n",
            "Requirement already satisfied: tzdata>=2022.7 in ./.local/lib/python3.10/site-packages (from pandas) (2024.1)\n",
            "Requirement already satisfied: python-dateutil>=2.8.2 in ./.local/lib/python3.10/site-packages (from pandas) (2.9.0.post0)\n",
            "Requirement already satisfied: pytz>=2020.1 in /usr/lib/python3/dist-packages (from pandas) (2022.1)\n",
            "Requirement already satisfied: six>=1.5 in /usr/lib/python3/dist-packages (from python-dateutil>=2.8.2->pandas) (1.16.0)\n",
            "Note: you may need to restart the kernel to use updated packages.\n"
          ]
        }
      ],
      "source": [
        "pip install pandas"
      ]
    },
    {
      "cell_type": "code",
      "execution_count": null,
      "id": "7ef0a00b-5f65-4630-b80d-11ffdc043186",
      "metadata": {
        "id": "7ef0a00b-5f65-4630-b80d-11ffdc043186"
      },
      "outputs": [],
      "source": [
        "import pandas as pd"
      ]
    },
    {
      "cell_type": "code",
      "execution_count": null,
      "id": "f9a882fc-70a0-43ee-ac3b-939f032e6950",
      "metadata": {
        "id": "f9a882fc-70a0-43ee-ac3b-939f032e6950"
      },
      "outputs": [],
      "source": [
        "import json"
      ]
    },
    {
      "cell_type": "code",
      "execution_count": null,
      "id": "0971aa5a-34b6-4adb-ba13-61f5b483e2fb",
      "metadata": {
        "id": "0971aa5a-34b6-4adb-ba13-61f5b483e2fb"
      },
      "outputs": [],
      "source": [
        "def fetch_copyright_data():\n",
        "    try:\n",
        "        connection = psycopg2.connect(\n",
        "            dbname=\"fossology\",\n",
        "            user=\"fossy\",\n",
        "            password=\"fossy\",\n",
        "            host=\"localhost\",\n",
        "            port=\"5432\"\n",
        "        )\n",
        "        cursor =  connection.cursor()\n",
        "\n",
        "        sql = \"\"\"\n",
        "        SELECT DISTINCT ON(copyright_pk, UT.uploadtree_pk)\n",
        "            copyright_pk,\n",
        "            UT.uploadtree_pk AS uploadtree_pk,\n",
        "            (CASE WHEN (CE.content IS NULL OR CE.content = '') THEN C.content ELSE CE.content END) AS content,\n",
        "            (CASE WHEN (CE.hash IS NULL OR CE.hash = '') THEN C.hash ELSE CE.hash END) AS hash,\n",
        "            C.agent_fk AS agent_fk,\n",
        "            C.is_enabled AS original_is_enabled,\n",
        "            CE.is_enabled AS modified_is_enabled\n",
        "        FROM copyright C\n",
        "        INNER JOIN uploadtree UT on C.pfile_fk = UT.pfile_fk\n",
        "        LEFT JOIN copyright_event CE ON CE.copyright_fk = C.copyright_pk\n",
        "            AND CE.uploadtree_fk = UT.uploadtree_pk\n",
        "        WHERE C.content IS NOT NULL\n",
        "            AND C.content != ''\n",
        "        ORDER BY copyright_pk, UT.uploadtree_pk, content DESC;\n",
        "        \"\"\"\n",
        "\n",
        "        cursor.execute(sql)\n",
        "\n",
        "        records = cursor.fetchall()\n",
        "        #print(records)\n",
        "        results = []\n",
        "        for record in records:\n",
        "            result = {\n",
        "                \"content\": record[2],\n",
        "                \"is_enabled\": record[5]\n",
        "            }\n",
        "            results.append(result)\n",
        "        df = pd.DataFrame(results)\n",
        "\n",
        "\n",
        "\n",
        "    except Exception as error:\n",
        "        print(f\"Error: {error}\")\n",
        "    finally:\n",
        "        print(df)\n",
        "        # Save the dataframe to a CSV file\n",
        "        df.to_csv('copyrights.csv', index=False)\n",
        "        if connection:\n",
        "            cursor.close()\n",
        "            connection.close()"
      ]
    },
    {
      "cell_type": "code",
      "execution_count": null,
      "id": "321bc89d-2db7-441d-9c3d-8424d67ad30a",
      "metadata": {
        "id": "321bc89d-2db7-441d-9c3d-8424d67ad30a",
        "outputId": "49637955-f660-431e-eebb-3a9aba08ce18"
      },
      "outputs": [
        {
          "name": "stdout",
          "output_type": "stream",
          "text": [
            "                                                 content  is_enabled\n",
            "0      Copyright (c) Facebook, Inc. and its affiliate...        True\n",
            "1      Copyright (c) Facebook, Inc. and its affiliate...        True\n",
            "2      Copyright (c) Facebook, Inc. and its affiliate...        True\n",
            "3      Copyright (c) Facebook, Inc. and its affiliate...        True\n",
            "4      Copyright (c) Facebook, Inc. and its affiliate...        True\n",
            "...                                                  ...         ...\n",
            "22150  Copyright 2015 The TensorFlow Authors. All Rig...        True\n",
            "22151  Copyright 2015 The TensorFlow Authors. All Rig...        True\n",
            "22152  Copyright 2015 The TensorFlow Authors. All Rig...        True\n",
            "22153  Copyright 2022 The TensorFlow Authors. All Rig...        True\n",
            "22154  Copyright 2021 The TensorFlow Authors. All Rig...        True\n",
            "\n",
            "[22155 rows x 2 columns]\n"
          ]
        }
      ],
      "source": [
        "__name__ == \"__main__\"\n",
        "fetch_copyright_data()"
      ]
    },
    {
      "cell_type": "code",
      "execution_count": null,
      "id": "79278875-efb1-4fe5-a56c-37535acb53bb",
      "metadata": {
        "id": "79278875-efb1-4fe5-a56c-37535acb53bb"
      },
      "outputs": [],
      "source": []
    }
  ],
  "metadata": {
    "kernelspec": {
      "display_name": "Python 3 (ipykernel)",
      "language": "python",
      "name": "python3"
    },
    "language_info": {
      "codemirror_mode": {
        "name": "ipython",
        "version": 3
      },
      "file_extension": ".py",
      "mimetype": "text/x-python",
      "name": "python",
      "nbconvert_exporter": "python",
      "pygments_lexer": "ipython3",
      "version": "3.10.12"
    },
    "colab": {
      "provenance": []
    }
  },
  "nbformat": 4,
  "nbformat_minor": 5
}